{
 "cells": [
  {
   "cell_type": "markdown",
   "metadata": {},
   "source": [
    "# How to Build a Minimal Recommendation Engine"
   ]
  },
  {
   "cell_type": "markdown",
   "metadata": {},
   "source": [
    "In this project, I explore the method to build a basic recommendation engine following a tutorial in the reference. And the dataset is from https://movielens.org/.\n",
    "There're two types of recommedation methods: \n",
    "- content-based filtering: recommand based on the user's own rating history on one movie.\n",
    "- collaborative filtering: recommand based on other user's rating history on one movie."
   ]
  },
  {
   "cell_type": "markdown",
   "metadata": {},
   "source": [
    "## 1. The MovieLens dataset: loading and first look"
   ]
  },
  {
   "cell_type": "code",
   "execution_count": 300,
   "metadata": {
    "collapsed": true
   },
   "outputs": [],
   "source": [
    "import numpy as np\n",
    "import pandas as pd\n",
    "import datetime\n",
    "import matplotlib.pyplot as plt\n",
    "%matplotlib inline"
   ]
  },
  {
   "cell_type": "code",
   "execution_count": 301,
   "metadata": {
    "collapsed": true
   },
   "outputs": [],
   "source": [
    "movies = pd.read_csv(r'ml-latest-small/movies.csv')\n",
    "ratings = pd.read_csv(r'ml-latest-small/ratings.csv')\n",
    "links = pd.read_csv(r'ml-latest-small/links.csv')\n",
    "tags = pd.read_csv(r'ml-latest-small/tags.csv')\n",
    "#genome_tags = pd.read_csv(r'ml-latest-small/genome-tags.csv')\n",
    "#genome_scores = pd.read_csv(r'ml-latest-small/genome-scores.csv')"
   ]
  },
  {
   "cell_type": "code",
   "execution_count": 302,
   "metadata": {},
   "outputs": [
    {
     "data": {
      "text/plain": [
       "pandas.core.frame.DataFrame"
      ]
     },
     "execution_count": 302,
     "metadata": {},
     "output_type": "execute_result"
    }
   ],
   "source": [
    "type(movies)"
   ]
  },
  {
   "cell_type": "code",
   "execution_count": 303,
   "metadata": {
    "scrolled": true
   },
   "outputs": [
    {
     "name": "stdout",
     "output_type": "stream",
     "text": [
      "   movieId                               title  \\\n",
      "0        1                    Toy Story (1995)   \n",
      "1        2                      Jumanji (1995)   \n",
      "2        3             Grumpier Old Men (1995)   \n",
      "3        4            Waiting to Exhale (1995)   \n",
      "4        5  Father of the Bride Part II (1995)   \n",
      "\n",
      "                                        genres  \n",
      "0  Adventure|Animation|Children|Comedy|Fantasy  \n",
      "1                   Adventure|Children|Fantasy  \n",
      "2                               Comedy|Romance  \n",
      "3                         Comedy|Drama|Romance  \n",
      "4                                       Comedy   (9125, 3)\n"
     ]
    }
   ],
   "source": [
    "print(movies.head(),movies.shape)"
   ]
  },
  {
   "cell_type": "code",
   "execution_count": 304,
   "metadata": {
    "scrolled": true
   },
   "outputs": [
    {
     "name": "stdout",
     "output_type": "stream",
     "text": [
      "   userId  movieId  rating   timestamp\n",
      "0       1       31     2.5  1260759144\n",
      "1       1     1029     3.0  1260759179\n",
      "2       1     1061     3.0  1260759182\n",
      "3       1     1129     2.0  1260759185\n",
      "4       1     1172     4.0  1260759205 (100004, 4)\n"
     ]
    }
   ],
   "source": [
    "print(ratings.head(),ratings.shape)"
   ]
  },
  {
   "cell_type": "code",
   "execution_count": 305,
   "metadata": {
    "scrolled": true
   },
   "outputs": [
    {
     "name": "stdout",
     "output_type": "stream",
     "text": [
      "How many users rated movies? 671\n"
     ]
    }
   ],
   "source": [
    "print('How many users rated movies?',len(ratings['userId'].unique()))"
   ]
  },
  {
   "cell_type": "code",
   "execution_count": 306,
   "metadata": {
    "scrolled": false
   },
   "outputs": [
    {
     "name": "stdout",
     "output_type": "stream",
     "text": [
      "How many movies are rated? 9066\n"
     ]
    }
   ],
   "source": [
    "print('How many movies are rated?',len(ratings['movieId'].unique()))"
   ]
  },
  {
   "cell_type": "code",
   "execution_count": 307,
   "metadata": {
    "scrolled": true
   },
   "outputs": [
    {
     "name": "stdout",
     "output_type": "stream",
     "text": [
      "   movieId  imdbId   tmdbId\n",
      "0        1  114709    862.0\n",
      "1        2  113497   8844.0\n",
      "2        3  113228  15602.0\n",
      "3        4  114885  31357.0\n",
      "4        5  113041  11862.0 (9125, 3)\n"
     ]
    }
   ],
   "source": [
    "print(links.head(),links.shape)"
   ]
  },
  {
   "cell_type": "code",
   "execution_count": 308,
   "metadata": {
    "scrolled": true
   },
   "outputs": [
    {
     "name": "stdout",
     "output_type": "stream",
     "text": [
      "   userId  movieId                      tag   timestamp\n",
      "0      15      339  sandra 'boring' bullock  1138537770\n",
      "1      15     1955                  dentist  1193435061\n",
      "2      15     7478                 Cambodia  1170560997\n",
      "3      15    32892                  Russian  1170626366\n",
      "4      15    34162              forgettable  1141391765 (1296, 4)\n"
     ]
    }
   ],
   "source": [
    "print(tags.head(),tags.shape)"
   ]
  },
  {
   "cell_type": "code",
   "execution_count": 309,
   "metadata": {
    "scrolled": false
   },
   "outputs": [
    {
     "name": "stdout",
     "output_type": "stream",
     "text": [
      "How many movies have tags? 689\n"
     ]
    }
   ],
   "source": [
    "print('How many movies have tags?', len(tags['movieId'].unique()))"
   ]
  },
  {
   "cell_type": "markdown",
   "metadata": {},
   "source": [
    "## 2. Wrangling the movie dataset"
   ]
  },
  {
   "cell_type": "code",
   "execution_count": 310,
   "metadata": {
    "scrolled": true
   },
   "outputs": [
    {
     "name": "stdout",
     "output_type": "stream",
     "text": [
      "   movieId                               title  \\\n",
      "0        1                    Toy Story (1995)   \n",
      "1        2                      Jumanji (1995)   \n",
      "2        3             Grumpier Old Men (1995)   \n",
      "3        4            Waiting to Exhale (1995)   \n",
      "4        5  Father of the Bride Part II (1995)   \n",
      "\n",
      "                                        genres  imdbId   tmdbId  \n",
      "0  Adventure|Animation|Children|Comedy|Fantasy  114709    862.0  \n",
      "1                   Adventure|Children|Fantasy  113497   8844.0  \n",
      "2                               Comedy|Romance  113228  15602.0  \n",
      "3                         Comedy|Drama|Romance  114885  31357.0  \n",
      "4                                       Comedy  113041  11862.0  \n"
     ]
    },
    {
     "data": {
      "text/plain": [
       "(9125, 5)"
      ]
     },
     "execution_count": 310,
     "metadata": {},
     "output_type": "execute_result"
    }
   ],
   "source": [
    "movies_links = pd.merge(movies,links)\n",
    "print(movies_links.head())\n",
    "movies_links.shape"
   ]
  },
  {
   "cell_type": "code",
   "execution_count": 356,
   "metadata": {
    "scrolled": true
   },
   "outputs": [
    {
     "name": "stdout",
     "output_type": "stream",
     "text": [
      "   userId  movieId  rating   timestamp  \\\n",
      "0       1       31     2.5  1260759144   \n",
      "1       1     1029     3.0  1260759179   \n",
      "2       1     1061     3.0  1260759182   \n",
      "3       1     1129     2.0  1260759185   \n",
      "4       1     1172     4.0  1260759205   \n",
      "\n",
      "                                            title  \\\n",
      "0                          Dangerous Minds (1995)   \n",
      "1                                    Dumbo (1941)   \n",
      "2                                 Sleepers (1996)   \n",
      "3                     Escape from New York (1981)   \n",
      "4  Cinema Paradiso (Nuovo cinema Paradiso) (1989)   \n",
      "\n",
      "                             genres  imdbId   tmdbId  \n",
      "0                             Drama  112792   9909.0  \n",
      "1  Animation|Children|Drama|Musical   33563  11360.0  \n",
      "2                          Thriller  117665    819.0  \n",
      "3  Action|Adventure|Sci-Fi|Thriller   82340   1103.0  \n",
      "4                             Drama   95765  11216.0  \n"
     ]
    }
   ],
   "source": [
    "movies_links_ratings = ratings.merge(movies_links,on='movieId',how='left')\n",
    "#print(movies_links_ratings.sort_values(by=['movieId']).head())\n",
    "#print(ratings[ratings.timestamp == 851866703])\n",
    "#print(movies_links_ratings[movies_links_ratings.movieId == 850866703])\n",
    "print(movies_links_ratings.head())"
   ]
  },
  {
   "cell_type": "code",
   "execution_count": 358,
   "metadata": {
    "scrolled": true
   },
   "outputs": [
    {
     "name": "stdout",
     "output_type": "stream",
     "text": [
      "   userId  movieId  rating  timestamp_x  \\\n",
      "0       1       31     2.5   1260759144   \n",
      "1       1     1029     3.0   1260759179   \n",
      "2       1     1061     3.0   1260759182   \n",
      "3       1     1129     2.0   1260759185   \n",
      "4       1     1172     4.0   1260759205   \n",
      "\n",
      "                                            title  \\\n",
      "0                          Dangerous Minds (1995)   \n",
      "1                                    Dumbo (1941)   \n",
      "2                                 Sleepers (1996)   \n",
      "3                     Escape from New York (1981)   \n",
      "4  Cinema Paradiso (Nuovo cinema Paradiso) (1989)   \n",
      "\n",
      "                             genres  imdbId   tmdbId  tag  timestamp_y  \n",
      "0                             Drama  112792   9909.0  NaN          NaN  \n",
      "1  Animation|Children|Drama|Musical   33563  11360.0  NaN          NaN  \n",
      "2                          Thriller  117665    819.0  NaN          NaN  \n",
      "3  Action|Adventure|Sci-Fi|Thriller   82340   1103.0  NaN          NaN  \n",
      "4                             Drama   95765  11216.0  NaN          NaN  \n"
     ]
    }
   ],
   "source": [
    "movielens_1 = movies_links_ratings.merge(tags,on=['userId','movieId'],how='left')\n",
    "print(movielens_1.head())"
   ]
  },
  {
   "cell_type": "code",
   "execution_count": 359,
   "metadata": {
    "scrolled": false
   },
   "outputs": [
    {
     "data": {
      "text/plain": [
       "'2009-12-13 21:52:24'"
      ]
     },
     "execution_count": 359,
     "metadata": {},
     "output_type": "execute_result"
    }
   ],
   "source": [
    "datetime.datetime.fromtimestamp(int('1260759144')).strftime(\"%Y-%m-%d %H:%M:%S\")"
   ]
  },
  {
   "cell_type": "code",
   "execution_count": 360,
   "metadata": {
    "collapsed": true
   },
   "outputs": [],
   "source": [
    "def get_datetime(timestamp_array):\n",
    "    result = []\n",
    "    for i in timestamp_array:\n",
    "        if not np.isnan(i):\n",
    "            result.append(datetime.datetime.fromtimestamp(int(i)).strftime(\"%Y-%m-%d %H:%M:%S\"))\n",
    "        else:\n",
    "            result.append(np.NaN)\n",
    "    return result"
   ]
  },
  {
   "cell_type": "code",
   "execution_count": 362,
   "metadata": {},
   "outputs": [],
   "source": [
    "movielens_1['timestamp_ratings'] = get_datetime(movielens_1.timestamp_x)\n",
    "movielens_1['timestamp_tags'] = get_datetime(movielens_1.timestamp_y)\n",
    "movielens_2 = movielens_1.drop(['timestamp_x'],axis=1)\n",
    "movielens = movielens_2.drop(['timestamp_y'],axis=1)\n",
    "#movielens = movielens.dropna()"
   ]
  },
  {
   "cell_type": "code",
   "execution_count": 363,
   "metadata": {
    "scrolled": false
   },
   "outputs": [
    {
     "name": "stdout",
     "output_type": "stream",
     "text": [
      "   userId  movieId  rating                                           title  \\\n",
      "0       1       31     2.5                          Dangerous Minds (1995)   \n",
      "1       1     1029     3.0                                    Dumbo (1941)   \n",
      "2       1     1061     3.0                                 Sleepers (1996)   \n",
      "3       1     1129     2.0                     Escape from New York (1981)   \n",
      "4       1     1172     4.0  Cinema Paradiso (Nuovo cinema Paradiso) (1989)   \n",
      "\n",
      "                             genres  imdbId   tmdbId  tag  \\\n",
      "0                             Drama  112792   9909.0  NaN   \n",
      "1  Animation|Children|Drama|Musical   33563  11360.0  NaN   \n",
      "2                          Thriller  117665    819.0  NaN   \n",
      "3  Action|Adventure|Sci-Fi|Thriller   82340   1103.0  NaN   \n",
      "4                             Drama   95765  11216.0  NaN   \n",
      "\n",
      "     timestamp_ratings timestamp_tags  \n",
      "0  2009-12-13 21:52:24            NaN  \n",
      "1  2009-12-13 21:52:59            NaN  \n",
      "2  2009-12-13 21:53:02            NaN  \n",
      "3  2009-12-13 21:53:05            NaN  \n",
      "4  2009-12-13 21:53:25            NaN  \n"
     ]
    }
   ],
   "source": [
    "print(movielens.head())"
   ]
  },
  {
   "cell_type": "code",
   "execution_count": 364,
   "metadata": {
    "collapsed": true
   },
   "outputs": [],
   "source": [
    "def representInt(string):\n",
    "    try:\n",
    "        int(string)\n",
    "        return True\n",
    "    except ValueError:\n",
    "        return False"
   ]
  },
  {
   "cell_type": "code",
   "execution_count": 365,
   "metadata": {},
   "outputs": [],
   "source": [
    "def get_year_1(string): \n",
    "    m,n = 0,0\n",
    "    for i in range(len(string)):\n",
    "        if (string[i] == '(') & (i < len(string)-1):\n",
    "            if representInt(string[i+1]):\n",
    "                m = i\n",
    "        if (string[i] == ')') & representInt(string[i-1]):\n",
    "            n = i\n",
    "    return string[m+1:n]"
   ]
  },
  {
   "cell_type": "code",
   "execution_count": 366,
   "metadata": {
    "collapsed": true
   },
   "outputs": [],
   "source": [
    "def get_year(array):\n",
    "    result = []\n",
    "    for i in array:\n",
    "        result.append(get_year_1(i))\n",
    "    return result"
   ]
  },
  {
   "cell_type": "code",
   "execution_count": 367,
   "metadata": {
    "scrolled": false
   },
   "outputs": [
    {
     "name": "stdout",
     "output_type": "stream",
     "text": [
      "   userId  movieId  rating                                           title  \\\n",
      "0       1       31     2.5                          Dangerous Minds (1995)   \n",
      "1       1     1029     3.0                                    Dumbo (1941)   \n",
      "2       1     1061     3.0                                 Sleepers (1996)   \n",
      "3       1     1129     2.0                     Escape from New York (1981)   \n",
      "4       1     1172     4.0  Cinema Paradiso (Nuovo cinema Paradiso) (1989)   \n",
      "\n",
      "                             genres  imdbId   tmdbId  tag  \\\n",
      "0                             Drama  112792   9909.0  NaN   \n",
      "1  Animation|Children|Drama|Musical   33563  11360.0  NaN   \n",
      "2                          Thriller  117665    819.0  NaN   \n",
      "3  Action|Adventure|Sci-Fi|Thriller   82340   1103.0  NaN   \n",
      "4                             Drama   95765  11216.0  NaN   \n",
      "\n",
      "     timestamp_ratings timestamp_tags  year  \n",
      "0  2009-12-13 21:52:24            NaN  1995  \n",
      "1  2009-12-13 21:52:59            NaN  1941  \n",
      "2  2009-12-13 21:53:02            NaN  1996  \n",
      "3  2009-12-13 21:53:05            NaN  1981  \n",
      "4  2009-12-13 21:53:25            NaN  1989  \n"
     ]
    }
   ],
   "source": [
    "movielens['year'] = get_year(movielens['title'])\n",
    "print(movielens.head())"
   ]
  },
  {
   "cell_type": "code",
   "execution_count": 378,
   "metadata": {
    "collapsed": true
   },
   "outputs": [],
   "source": [
    "def split_by(text):\n",
    "    li = text.split('|')\n",
    "    return li"
   ]
  },
  {
   "cell_type": "code",
   "execution_count": 435,
   "metadata": {
    "scrolled": true
   },
   "outputs": [
    {
     "name": "stdout",
     "output_type": "stream",
     "text": [
      "0    [Adventure, Animation, Children, Comedy, Fantasy]\n",
      "1                       [Adventure, Children, Fantasy]\n",
      "2                                    [Comedy, Romance]\n",
      "3                             [Comedy, Drama, Romance]\n",
      "4                                             [Comedy]\n",
      "Name: genres, dtype: object\n"
     ]
    }
   ],
   "source": [
    "genres_list = movies['genres'].apply(split_by)\n",
    "#genres_series = genres_list.apply(pd.Series)\n",
    "print(genres_list.head())"
   ]
  },
  {
   "cell_type": "code",
   "execution_count": 436,
   "metadata": {},
   "outputs": [
    {
     "name": "stdout",
     "output_type": "stream",
     "text": [
      "Genres list:\n",
      " {'Action', 'Thriller', 'Film-Noir', 'Western', 'War', 'Horror', 'Mystery', 'Documentary', 'Sci-Fi', 'IMAX', 'Adventure', 'Children', 'Musical', 'Comedy', 'Romance', 'Drama', 'Fantasy', 'Crime', 'Animation'}\n",
      "\n",
      "How many genres totally?\n",
      " 19\n"
     ]
    }
   ],
   "source": [
    "genres_total = set()\n",
    "for l in genres_list:\n",
    "    for e in l:\n",
    "        if e != '(no genres listed)':\n",
    "            genres_total.add(e)\n",
    "print('Genres list:\\n',genres_total)\n",
    "print('\\nHow many genres totally?\\n',len(genres_total))"
   ]
  },
  {
   "cell_type": "markdown",
   "metadata": {},
   "source": [
    "## 3. Apply the inferential statistics"
   ]
  },
  {
   "cell_type": "code",
   "execution_count": 368,
   "metadata": {
    "collapsed": true
   },
   "outputs": [],
   "source": [
    "def ecdf(data):\n",
    "    \"\"\"Compute ECDF for a one-dimensional array of measurements.\"\"\"\n",
    "\n",
    "    # Number of data points: n\n",
    "    n = len(data)\n",
    "\n",
    "    # x-data for the ECDF: x\n",
    "    x = np.sort(data)\n",
    "\n",
    "    # y-data for the ECDF: y\n",
    "    y = np.arange(1, n+1) / n\n",
    "\n",
    "    return x, y"
   ]
  },
  {
   "cell_type": "markdown",
   "metadata": {},
   "source": [
    "### If mean of one user's rating is 3.5, does this user tend to overestimate or underestimate a movie?"
   ]
  },
  {
   "cell_type": "code",
   "execution_count": 369,
   "metadata": {
    "scrolled": true
   },
   "outputs": [
    {
     "name": "stdout",
     "output_type": "stream",
     "text": [
      "3.6601501130101264\n"
     ]
    },
    {
     "data": {
      "text/plain": [
       "(array([  1.,   1.,   0.,   0.,   0.,   0.,   1.,   0.,   0.,   1.,   0.,\n",
       "          0.,   1.,   0.,   2.,   1.,   5.,   3.,   7.,   6.,   7.,   9.,\n",
       "         12.,  10.,  13.,  18.,  30.,  16.,  43.,  32.,  37.,  55.,  53.,\n",
       "         36.,  39.,  38.,  43.,  30.,  28.,  26.,  22.,  18.,  10.,   7.,\n",
       "          2.,   3.,   1.,   2.,   1.,   1.]),\n",
       " array([ 1.33333333,  1.40564103,  1.47794872,  1.55025641,  1.6225641 ,\n",
       "         1.69487179,  1.76717949,  1.83948718,  1.91179487,  1.98410256,\n",
       "         2.05641026,  2.12871795,  2.20102564,  2.27333333,  2.34564103,\n",
       "         2.41794872,  2.49025641,  2.5625641 ,  2.63487179,  2.70717949,\n",
       "         2.77948718,  2.85179487,  2.92410256,  2.99641026,  3.06871795,\n",
       "         3.14102564,  3.21333333,  3.28564103,  3.35794872,  3.43025641,\n",
       "         3.5025641 ,  3.57487179,  3.64717949,  3.71948718,  3.79179487,\n",
       "         3.86410256,  3.93641026,  4.00871795,  4.08102564,  4.15333333,\n",
       "         4.22564103,  4.29794872,  4.37025641,  4.4425641 ,  4.51487179,\n",
       "         4.58717949,  4.65948718,  4.73179487,  4.80410256,  4.87641026,\n",
       "         4.94871795]),\n",
       " <a list of 50 Patch objects>)"
      ]
     },
     "execution_count": 369,
     "metadata": {},
     "output_type": "execute_result"
    },
    {
     "data": {
      "image/png": "[encoded data removed]",
      "text/plain": [
       "<matplotlib.figure.Figure at 0x1cf4e4d42e8>"
      ]
     },
     "metadata": {},
     "output_type": "display_data"
    }
   ],
   "source": [
    "mean_rating_user = movielens.groupby('userId').mean()['rating']\n",
    "print(mean_rating_user.mean())\n",
    "plt.hist(mean_rating_user,bins=50)"
   ]
  },
  {
   "cell_type": "code",
   "execution_count": 370,
   "metadata": {},
   "outputs": [
    {
     "name": "stdout",
     "output_type": "stream",
     "text": [
      "3.6601501130101264\n",
      "0.4699806522148716\n"
     ]
    },
    {
     "data": {
      "image/png": "[encoded data removed]",
      "text/plain": [
       "<matplotlib.figure.Figure at 0x1cf43733048>"
      ]
     },
     "metadata": {},
     "output_type": "display_data"
    }
   ],
   "source": [
    "mean_user = np.mean(mean_rating_user)\n",
    "std_user = np.std(mean_rating_user)\n",
    "samples_user = np.random.normal(mean_user,std_user,100000)\n",
    "x_theor_user, y_theor_user = ecdf(samples_user)\n",
    "x_user, y_user = ecdf(mean_rating_user)\n",
    "print(mean_user)\n",
    "print(std_user)\n",
    "_ = plt.plot(x_user, y_user, marker='.', linestyle='none')\n",
    "_ = plt.plot(x_theor_user, y_theor_user)\n",
    "_ = plt.xlabel('Mean Ratings of Users')\n",
    "_ = plt.ylabel('CDF')"
   ]
  },
  {
   "cell_type": "markdown",
   "metadata": {
    "collapsed": true
   },
   "source": [
    "In this situation, it is appropriate to use the z statistic, because the value of mean is approximately a normal distribution."
   ]
  },
  {
   "cell_type": "code",
   "execution_count": 371,
   "metadata": {
    "collapsed": true
   },
   "outputs": [],
   "source": [
    "def bootstrap_replicate_1d(data,func):\n",
    "    bs_sample = np.random.choice(data,len(data))\n",
    "    return func(bs_sample)\n",
    "def draw_bs_reps(data,func,size=1):\n",
    "    bs = np.empty(size)\n",
    "    for i in range(size):\n",
    "        bs[i] = bootstrap_replicate_1d(data,func)\n",
    "    return bs"
   ]
  },
  {
   "cell_type": "code",
   "execution_count": 372,
   "metadata": {},
   "outputs": [
    {
     "name": "stdout",
     "output_type": "stream",
     "text": [
      "SEM is:  0.0181434018444\n",
      "Standard deviation is:  0.0181552452631\n"
     ]
    },
    {
     "data": {
      "image/png": "[encoded data removed]",
      "text/plain": [
       "<matplotlib.figure.Figure at 0x1cf53bd2d68>"
      ]
     },
     "metadata": {},
     "output_type": "display_data"
    }
   ],
   "source": [
    "bs_replicates = draw_bs_reps(mean_rating_user,np.mean,size=10000)\n",
    "\n",
    "# Compute and print SEM\n",
    "sem = np.std(mean_rating_user) / np.sqrt(len(mean_rating_user))\n",
    "print('SEM is: ', sem)\n",
    "\n",
    "# Compute and print standard deviation of bootstrap replicates\n",
    "bs_std = np.std(bs_replicates)\n",
    "print('Standard deviation is: ', bs_std)\n",
    "\n",
    "# Make a histogram of the results\n",
    "_ = plt.hist(bs_replicates, bins=50, normed=True)\n",
    "_ = plt.xlabel('mean temperature')\n",
    "_ = plt.ylabel('PDF')\n",
    "\n",
    "# Show the plot\n",
    "plt.show()"
   ]
  },
  {
   "cell_type": "code",
   "execution_count": 373,
   "metadata": {
    "scrolled": true
   },
   "outputs": [
    {
     "name": "stdout",
     "output_type": "stream",
     "text": [
      "z score: -8.82690657374\n",
      "p value: 0.0\n"
     ]
    }
   ],
   "source": [
    "z_score = (3.5 - np.mean(mean_rating_user))/sem\n",
    "print('z score:', z_score)\n",
    "from scipy import stats\n",
    "p = (1-stats.norm.cdf(abs(z_score)))*2\n",
    "print('p value:',p)"
   ]
  },
  {
   "cell_type": "markdown",
   "metadata": {},
   "source": [
    "According to the z score and p value above, if mean rating of a user is 3.5, he or she tends to underestimate a movie."
   ]
  },
  {
   "cell_type": "markdown",
   "metadata": {},
   "source": [
    "### If one movie's rating is 3.5, does this movie higher rated or lower rated?"
   ]
  },
  {
   "cell_type": "code",
   "execution_count": 374,
   "metadata": {
    "scrolled": true
   },
   "outputs": [
    {
     "data": {
      "text/plain": [
       "(array([  9.40000000e+01,   0.00000000e+00,   9.00000000e+00,\n",
       "          1.00000000e+00,   1.00000000e+00,   1.82000000e+02,\n",
       "          2.00000000e+00,   4.00000000e+00,   1.20000000e+01,\n",
       "          8.00000000e+00,   1.00000000e+00,   1.73000000e+02,\n",
       "          2.60000000e+01,   4.30000000e+01,   2.40000000e+01,\n",
       "          1.30000000e+01,   3.84000000e+02,   1.80000000e+01,\n",
       "          6.50000000e+01,   1.03000000e+02,   1.03000000e+02,\n",
       "          4.80000000e+01,   4.73000000e+02,   6.80000000e+01,\n",
       "          1.53000000e+02,   2.54000000e+02,   1.20000000e+02,\n",
       "          8.97000000e+02,   1.34000000e+02,   2.36000000e+02,\n",
       "          3.21000000e+02,   3.20000000e+02,   2.03000000e+02,\n",
       "          8.71000000e+02,   2.83000000e+02,   3.13000000e+02,\n",
       "          3.82000000e+02,   3.36000000e+02,   1.11600000e+03,\n",
       "          1.15000000e+02,   1.76000000e+02,   1.90000000e+02,\n",
       "          7.90000000e+01,   4.20000000e+01,   3.08000000e+02,\n",
       "          6.00000000e+00,   1.50000000e+01,   2.50000000e+01,\n",
       "          1.00000000e+00,   3.15000000e+02]),\n",
       " array([ 0.5 ,  0.59,  0.68,  0.77,  0.86,  0.95,  1.04,  1.13,  1.22,\n",
       "         1.31,  1.4 ,  1.49,  1.58,  1.67,  1.76,  1.85,  1.94,  2.03,\n",
       "         2.12,  2.21,  2.3 ,  2.39,  2.48,  2.57,  2.66,  2.75,  2.84,\n",
       "         2.93,  3.02,  3.11,  3.2 ,  3.29,  3.38,  3.47,  3.56,  3.65,\n",
       "         3.74,  3.83,  3.92,  4.01,  4.1 ,  4.19,  4.28,  4.37,  4.46,\n",
       "         4.55,  4.64,  4.73,  4.82,  4.91,  5.  ]),\n",
       " <a list of 50 Patch objects>)"
      ]
     },
     "execution_count": 374,
     "metadata": {},
     "output_type": "execute_result"
    },
    {
     "data": {
      "image/png": "[encoded data removed]",
      "text/plain": [
       "<matplotlib.figure.Figure at 0x1cf4755f630>"
      ]
     },
     "metadata": {},
     "output_type": "display_data"
    }
   ],
   "source": [
    "mean_rating_movies = movielens.groupby('movieId').mean()['rating']\n",
    "plt.hist(mean_rating_movies,bins=50)"
   ]
  },
  {
   "cell_type": "code",
   "execution_count": 375,
   "metadata": {},
   "outputs": [
    {
     "name": "stdout",
     "output_type": "stream",
     "text": [
      "3.2930050962902686\n",
      "0.8822316244502246\n"
     ]
    },
    {
     "data": {
      "image/png": "[encoded data removed]",
      "text/plain": [
       "<matplotlib.figure.Figure at 0x1cf4b48a908>"
      ]
     },
     "metadata": {},
     "output_type": "display_data"
    }
   ],
   "source": [
    "mean_movies = np.mean(mean_rating_movies)\n",
    "std_movies = np.std(mean_rating_movies)\n",
    "samples_movies = np.random.normal(mean_movies,std_movies,100000)\n",
    "x_theor_movies, y_theor_movies = ecdf(samples_movies)\n",
    "x_movies, y_movies = ecdf(mean_rating_movies)\n",
    "print(mean_movies)\n",
    "print(std_movies)\n",
    "_ = plt.plot(x_movies, y_movies, marker='.', linestyle='none')\n",
    "_ = plt.plot(x_theor_movies, y_theor_movies)\n",
    "_ = plt.xlabel('Mean Ratings of Movies')\n",
    "_ = plt.ylabel('CDF')"
   ]
  },
  {
   "cell_type": "code",
   "execution_count": 376,
   "metadata": {},
   "outputs": [
    {
     "name": "stdout",
     "output_type": "stream",
     "text": [
      "SEM is:  0.00926562595341\n",
      "Standard deviation is:  0.00931088208933\n"
     ]
    },
    {
     "data": {
      "image/png": "[encoded data removed]",
      "text/plain": [
       "<matplotlib.figure.Figure at 0x1cf48223f98>"
      ]
     },
     "metadata": {},
     "output_type": "display_data"
    }
   ],
   "source": [
    "bs_replicates_movies = draw_bs_reps(mean_rating_movies,np.mean,size=10000)\n",
    "\n",
    "# Compute and print SEM\n",
    "sem_movies = np.std(mean_rating_movies) / np.sqrt(len(mean_rating_movies))\n",
    "print('SEM is: ', sem_movies)\n",
    "\n",
    "# Compute and print standard deviation of bootstrap replicates\n",
    "bs_std_movies = np.std(bs_replicates_movies)\n",
    "print('Standard deviation is: ', bs_std_movies)\n",
    "\n",
    "# Make a histogram of the results\n",
    "_ = plt.hist(bs_replicates_movies, bins=50, normed=True)\n",
    "_ = plt.xlabel('mean ratings per movie')\n",
    "_ = plt.ylabel('PDF')\n",
    "\n",
    "# Show the plot\n",
    "plt.show()"
   ]
  },
  {
   "cell_type": "code",
   "execution_count": 377,
   "metadata": {},
   "outputs": [
    {
     "name": "stdout",
     "output_type": "stream",
     "text": [
      "z score: 22.3400884895\n",
      "p value: 0.0\n"
     ]
    }
   ],
   "source": [
    "z_score_movies = (3.5 - np.mean(mean_rating_movies))/sem_movies\n",
    "print('z score:', z_score_movies)\n",
    "from scipy import stats\n",
    "p_movies = (1-stats.norm.cdf(abs(z_score_movies)))*2\n",
    "print('p value:',p_movies)"
   ]
  },
  {
   "cell_type": "markdown",
   "metadata": {},
   "source": [
    "According to the z score and p value, if a movie's rating is 3.5, it's significantly higher rated."
   ]
  },
  {
   "cell_type": "code",
   "execution_count": 381,
   "metadata": {
    "scrolled": false
   },
   "outputs": [
    {
     "name": "stdout",
     "output_type": "stream",
     "text": [
      "userId   1    2    3    4    5    6    7    8    9    10  ...   662  663  664  \\\n",
      "movieId                                                   ...                   \n",
      "1        NaN  NaN  NaN  NaN  NaN  NaN  3.0  NaN  4.0  NaN ...   NaN  4.0  3.5   \n",
      "2        NaN  NaN  NaN  NaN  NaN  NaN  NaN  NaN  NaN  NaN ...   5.0  NaN  NaN   \n",
      "3        NaN  NaN  NaN  NaN  4.0  NaN  NaN  NaN  NaN  NaN ...   NaN  NaN  NaN   \n",
      "4        NaN  NaN  NaN  NaN  NaN  NaN  NaN  NaN  NaN  NaN ...   NaN  NaN  NaN   \n",
      "5        NaN  NaN  NaN  NaN  NaN  NaN  NaN  NaN  NaN  NaN ...   NaN  NaN  NaN   \n",
      "\n",
      "userId   665  666  667  668  669  670  671  \n",
      "movieId                                     \n",
      "1        NaN  NaN  NaN  NaN  NaN  4.0  5.0  \n",
      "2        3.0  NaN  NaN  NaN  NaN  NaN  NaN  \n",
      "3        3.0  NaN  NaN  NaN  NaN  NaN  NaN  \n",
      "4        NaN  NaN  NaN  NaN  NaN  NaN  NaN  \n",
      "5        3.0  NaN  NaN  NaN  NaN  NaN  NaN  \n",
      "\n",
      "[5 rows x 671 columns]\n"
     ]
    }
   ],
   "source": [
    "ratings_reshape = ratings[['userId','movieId','rating']].pivot(index='movieId',columns='userId',values='rating')\n",
    "print(ratings_reshape.head())"
   ]
  },
  {
   "cell_type": "markdown",
   "metadata": {},
   "source": [
    "## 4. Minimal reco engine and its evaluation"
   ]
  },
  {
   "cell_type": "code",
   "execution_count": 394,
   "metadata": {},
   "outputs": [
    {
     "name": "stdout",
     "output_type": "stream",
     "text": [
      "(100441, 11)\n"
     ]
    }
   ],
   "source": [
    "user_ids_larger_1 = pd.value_counts(movielens.userId, sort=False) > 1\n",
    "user_ids_larger_1 = user_ids_larger_1[user_ids_larger_1].index\n",
    "\n",
    "movielens = movielens.select(lambda l: movielens.loc[l, 'userId'] in user_ids_larger_1)\n",
    "print(movielens.shape)\n",
    "assert(np.all(movielens.userId.value_counts() > 1))"
   ]
  },
  {
   "cell_type": "code",
   "execution_count": 393,
   "metadata": {
    "scrolled": false
   },
   "outputs": [
    {
     "data": {
      "text/html": [
       "<div>\n",
       "<style>\n",
       "    .dataframe thead tr:only-child th {\n",
       "        text-align: right;\n",
       "    }\n",
       "\n",
       "    .dataframe thead th {\n",
       "        text-align: left;\n",
       "    }\n",
       "\n",
       "    .dataframe tbody tr th {\n",
       "        vertical-align: top;\n",
       "    }\n",
       "</style>\n",
       "<table border=\"1\" class=\"dataframe\">\n",
       "  <thead>\n",
       "    <tr style=\"text-align: right;\">\n",
       "      <th></th>\n",
       "      <th>userId</th>\n",
       "      <th>movieId</th>\n",
       "      <th>rating</th>\n",
       "      <th>title</th>\n",
       "      <th>genres</th>\n",
       "      <th>imdbId</th>\n",
       "      <th>tmdbId</th>\n",
       "      <th>tag</th>\n",
       "      <th>timestamp_ratings</th>\n",
       "      <th>timestamp_tags</th>\n",
       "      <th>year</th>\n",
       "    </tr>\n",
       "  </thead>\n",
       "  <tbody>\n",
       "    <tr>\n",
       "      <th>0</th>\n",
       "      <td>1</td>\n",
       "      <td>31</td>\n",
       "      <td>2.5</td>\n",
       "      <td>Dangerous Minds (1995)</td>\n",
       "      <td>Drama</td>\n",
       "      <td>112792</td>\n",
       "      <td>9909.0</td>\n",
       "      <td>NaN</td>\n",
       "      <td>2009-12-13 21:52:24</td>\n",
       "      <td>NaN</td>\n",
       "      <td>1995</td>\n",
       "    </tr>\n",
       "    <tr>\n",
       "      <th>1</th>\n",
       "      <td>1</td>\n",
       "      <td>1029</td>\n",
       "      <td>3.0</td>\n",
       "      <td>Dumbo (1941)</td>\n",
       "      <td>Animation|Children|Drama|Musical</td>\n",
       "      <td>33563</td>\n",
       "      <td>11360.0</td>\n",
       "      <td>NaN</td>\n",
       "      <td>2009-12-13 21:52:59</td>\n",
       "      <td>NaN</td>\n",
       "      <td>1941</td>\n",
       "    </tr>\n",
       "    <tr>\n",
       "      <th>2</th>\n",
       "      <td>1</td>\n",
       "      <td>1061</td>\n",
       "      <td>3.0</td>\n",
       "      <td>Sleepers (1996)</td>\n",
       "      <td>Thriller</td>\n",
       "      <td>117665</td>\n",
       "      <td>819.0</td>\n",
       "      <td>NaN</td>\n",
       "      <td>2009-12-13 21:53:02</td>\n",
       "      <td>NaN</td>\n",
       "      <td>1996</td>\n",
       "    </tr>\n",
       "    <tr>\n",
       "      <th>3</th>\n",
       "      <td>1</td>\n",
       "      <td>1129</td>\n",
       "      <td>2.0</td>\n",
       "      <td>Escape from New York (1981)</td>\n",
       "      <td>Action|Adventure|Sci-Fi|Thriller</td>\n",
       "      <td>82340</td>\n",
       "      <td>1103.0</td>\n",
       "      <td>NaN</td>\n",
       "      <td>2009-12-13 21:53:05</td>\n",
       "      <td>NaN</td>\n",
       "      <td>1981</td>\n",
       "    </tr>\n",
       "    <tr>\n",
       "      <th>4</th>\n",
       "      <td>1</td>\n",
       "      <td>1172</td>\n",
       "      <td>4.0</td>\n",
       "      <td>Cinema Paradiso (Nuovo cinema Paradiso) (1989)</td>\n",
       "      <td>Drama</td>\n",
       "      <td>95765</td>\n",
       "      <td>11216.0</td>\n",
       "      <td>NaN</td>\n",
       "      <td>2009-12-13 21:53:25</td>\n",
       "      <td>NaN</td>\n",
       "      <td>1989</td>\n",
       "    </tr>\n",
       "  </tbody>\n",
       "</table>\n",
       "</div>"
      ],
      "text/plain": [
       "   userId  movieId  rating                                           title  \\\n",
       "0       1       31     2.5                          Dangerous Minds (1995)   \n",
       "1       1     1029     3.0                                    Dumbo (1941)   \n",
       "2       1     1061     3.0                                 Sleepers (1996)   \n",
       "3       1     1129     2.0                     Escape from New York (1981)   \n",
       "4       1     1172     4.0  Cinema Paradiso (Nuovo cinema Paradiso) (1989)   \n",
       "\n",
       "                             genres  imdbId   tmdbId  tag  \\\n",
       "0                             Drama  112792   9909.0  NaN   \n",
       "1  Animation|Children|Drama|Musical   33563  11360.0  NaN   \n",
       "2                          Thriller  117665    819.0  NaN   \n",
       "3  Action|Adventure|Sci-Fi|Thriller   82340   1103.0  NaN   \n",
       "4                             Drama   95765  11216.0  NaN   \n",
       "\n",
       "     timestamp_ratings timestamp_tags  year  \n",
       "0  2009-12-13 21:52:24            NaN  1995  \n",
       "1  2009-12-13 21:52:59            NaN  1941  \n",
       "2  2009-12-13 21:53:02            NaN  1996  \n",
       "3  2009-12-13 21:53:05            NaN  1981  \n",
       "4  2009-12-13 21:53:25            NaN  1989  "
      ]
     },
     "execution_count": 393,
     "metadata": {},
     "output_type": "execute_result"
    }
   ],
   "source": [
    "movielens.head()"
   ]
  },
  {
   "cell_type": "markdown",
   "metadata": {},
   "source": [
    "### Split the dataset to train and test set"
   ]
  },
  {
   "cell_type": "code",
   "execution_count": 395,
   "metadata": {
    "collapsed": true
   },
   "outputs": [],
   "source": [
    "from sklearn.model_selection import train_test_split"
   ]
  },
  {
   "cell_type": "code",
   "execution_count": 400,
   "metadata": {
    "scrolled": true
   },
   "outputs": [
    {
     "name": "stdout",
     "output_type": "stream",
     "text": [
      "(100441, 11)\n",
      "(80352, 11)\n",
      "(20089, 11)\n"
     ]
    }
   ],
   "source": [
    "movielens_train, movielens_test = train_test_split(movielens,test_size=0.2)\n",
    "print(movielens.shape)\n",
    "print(movielens_train.shape)\n",
    "print(movielens_test.shape)"
   ]
  },
  {
   "cell_type": "code",
   "execution_count": 401,
   "metadata": {},
   "outputs": [
    {
     "data": {
      "text/html": [
       "<div>\n",
       "<style>\n",
       "    .dataframe thead tr:only-child th {\n",
       "        text-align: right;\n",
       "    }\n",
       "\n",
       "    .dataframe thead th {\n",
       "        text-align: left;\n",
       "    }\n",
       "\n",
       "    .dataframe tbody tr th {\n",
       "        vertical-align: top;\n",
       "    }\n",
       "</style>\n",
       "<table border=\"1\" class=\"dataframe\">\n",
       "  <thead>\n",
       "    <tr style=\"text-align: right;\">\n",
       "      <th></th>\n",
       "      <th>userId</th>\n",
       "      <th>movieId</th>\n",
       "      <th>rating</th>\n",
       "      <th>title</th>\n",
       "      <th>genres</th>\n",
       "      <th>imdbId</th>\n",
       "      <th>tmdbId</th>\n",
       "      <th>tag</th>\n",
       "      <th>timestamp_ratings</th>\n",
       "      <th>timestamp_tags</th>\n",
       "      <th>year</th>\n",
       "    </tr>\n",
       "  </thead>\n",
       "  <tbody>\n",
       "    <tr>\n",
       "      <th>98413</th>\n",
       "      <td>654</td>\n",
       "      <td>6156</td>\n",
       "      <td>4.0</td>\n",
       "      <td>Shanghai Knights (2003)</td>\n",
       "      <td>Action|Adventure|Comedy</td>\n",
       "      <td>300471</td>\n",
       "      <td>6038.0</td>\n",
       "      <td>NaN</td>\n",
       "      <td>2006-04-18 15:52:39</td>\n",
       "      <td>NaN</td>\n",
       "      <td>2003</td>\n",
       "    </tr>\n",
       "    <tr>\n",
       "      <th>42947</th>\n",
       "      <td>306</td>\n",
       "      <td>2171</td>\n",
       "      <td>4.0</td>\n",
       "      <td>Next Stop Wonderland (1998)</td>\n",
       "      <td>Comedy|Drama|Romance</td>\n",
       "      <td>119778</td>\n",
       "      <td>41469.0</td>\n",
       "      <td>NaN</td>\n",
       "      <td>1999-10-12 05:01:50</td>\n",
       "      <td>NaN</td>\n",
       "      <td>1998</td>\n",
       "    </tr>\n",
       "    <tr>\n",
       "      <th>9172</th>\n",
       "      <td>60</td>\n",
       "      <td>2640</td>\n",
       "      <td>4.0</td>\n",
       "      <td>Superman (1978)</td>\n",
       "      <td>Action|Adventure|Sci-Fi</td>\n",
       "      <td>78346</td>\n",
       "      <td>1924.0</td>\n",
       "      <td>NaN</td>\n",
       "      <td>2005-09-04 06:14:36</td>\n",
       "      <td>NaN</td>\n",
       "      <td>1978</td>\n",
       "    </tr>\n",
       "    <tr>\n",
       "      <th>83518</th>\n",
       "      <td>564</td>\n",
       "      <td>454</td>\n",
       "      <td>4.0</td>\n",
       "      <td>Firm, The (1993)</td>\n",
       "      <td>Drama|Thriller</td>\n",
       "      <td>106918</td>\n",
       "      <td>37233.0</td>\n",
       "      <td>NaN</td>\n",
       "      <td>2000-11-20 05:22:07</td>\n",
       "      <td>NaN</td>\n",
       "      <td>1993</td>\n",
       "    </tr>\n",
       "    <tr>\n",
       "      <th>43567</th>\n",
       "      <td>311</td>\n",
       "      <td>368</td>\n",
       "      <td>3.0</td>\n",
       "      <td>Maverick (1994)</td>\n",
       "      <td>Adventure|Comedy|Western</td>\n",
       "      <td>110478</td>\n",
       "      <td>9359.0</td>\n",
       "      <td>NaN</td>\n",
       "      <td>1998-06-16 10:43:37</td>\n",
       "      <td>NaN</td>\n",
       "      <td>1994</td>\n",
       "    </tr>\n",
       "  </tbody>\n",
       "</table>\n",
       "</div>"
      ],
      "text/plain": [
       "       userId  movieId  rating                        title  \\\n",
       "98413     654     6156     4.0      Shanghai Knights (2003)   \n",
       "42947     306     2171     4.0  Next Stop Wonderland (1998)   \n",
       "9172       60     2640     4.0              Superman (1978)   \n",
       "83518     564      454     4.0             Firm, The (1993)   \n",
       "43567     311      368     3.0              Maverick (1994)   \n",
       "\n",
       "                         genres  imdbId   tmdbId  tag    timestamp_ratings  \\\n",
       "98413   Action|Adventure|Comedy  300471   6038.0  NaN  2006-04-18 15:52:39   \n",
       "42947      Comedy|Drama|Romance  119778  41469.0  NaN  1999-10-12 05:01:50   \n",
       "9172    Action|Adventure|Sci-Fi   78346   1924.0  NaN  2005-09-04 06:14:36   \n",
       "83518            Drama|Thriller  106918  37233.0  NaN  2000-11-20 05:22:07   \n",
       "43567  Adventure|Comedy|Western  110478   9359.0  NaN  1998-06-16 10:43:37   \n",
       "\n",
       "      timestamp_tags  year  \n",
       "98413            NaN  2003  \n",
       "42947            NaN  1998  \n",
       "9172             NaN  1978  \n",
       "83518            NaN  1993  \n",
       "43567            NaN  1994  "
      ]
     },
     "execution_count": 401,
     "metadata": {},
     "output_type": "execute_result"
    }
   ],
   "source": [
    "movielens_test.head()"
   ]
  },
  {
   "cell_type": "code",
   "execution_count": 402,
   "metadata": {
    "scrolled": false
   },
   "outputs": [
    {
     "data": {
      "text/html": [
       "<div>\n",
       "<style>\n",
       "    .dataframe thead tr:only-child th {\n",
       "        text-align: right;\n",
       "    }\n",
       "\n",
       "    .dataframe thead th {\n",
       "        text-align: left;\n",
       "    }\n",
       "\n",
       "    .dataframe tbody tr th {\n",
       "        vertical-align: top;\n",
       "    }\n",
       "</style>\n",
       "<table border=\"1\" class=\"dataframe\">\n",
       "  <thead>\n",
       "    <tr style=\"text-align: right;\">\n",
       "      <th></th>\n",
       "      <th>userId</th>\n",
       "      <th>movieId</th>\n",
       "      <th>rating</th>\n",
       "      <th>title</th>\n",
       "      <th>genres</th>\n",
       "      <th>imdbId</th>\n",
       "      <th>tmdbId</th>\n",
       "      <th>tag</th>\n",
       "      <th>timestamp_ratings</th>\n",
       "      <th>timestamp_tags</th>\n",
       "      <th>year</th>\n",
       "    </tr>\n",
       "  </thead>\n",
       "  <tbody>\n",
       "    <tr>\n",
       "      <th>71772</th>\n",
       "      <td>501</td>\n",
       "      <td>1203</td>\n",
       "      <td>5.0</td>\n",
       "      <td>12 Angry Men (1957)</td>\n",
       "      <td>Drama</td>\n",
       "      <td>50083</td>\n",
       "      <td>389.0</td>\n",
       "      <td>NaN</td>\n",
       "      <td>2011-06-30 20:24:04</td>\n",
       "      <td>NaN</td>\n",
       "      <td>1957</td>\n",
       "    </tr>\n",
       "    <tr>\n",
       "      <th>67162</th>\n",
       "      <td>468</td>\n",
       "      <td>54419</td>\n",
       "      <td>3.0</td>\n",
       "      <td>Czech Dream (Ceský sen) (2004)</td>\n",
       "      <td>Documentary</td>\n",
       "      <td>402906</td>\n",
       "      <td>33916.0</td>\n",
       "      <td>NaN</td>\n",
       "      <td>2011-01-28 00:51:15</td>\n",
       "      <td>NaN</td>\n",
       "      <td>2004</td>\n",
       "    </tr>\n",
       "    <tr>\n",
       "      <th>49751</th>\n",
       "      <td>362</td>\n",
       "      <td>5669</td>\n",
       "      <td>4.5</td>\n",
       "      <td>Bowling for Columbine (2002)</td>\n",
       "      <td>Documentary</td>\n",
       "      <td>310793</td>\n",
       "      <td>1430.0</td>\n",
       "      <td>NaN</td>\n",
       "      <td>2008-09-19 18:02:58</td>\n",
       "      <td>NaN</td>\n",
       "      <td>2002</td>\n",
       "    </tr>\n",
       "    <tr>\n",
       "      <th>13119</th>\n",
       "      <td>84</td>\n",
       "      <td>4993</td>\n",
       "      <td>4.5</td>\n",
       "      <td>Lord of the Rings: The Fellowship of the Ring,...</td>\n",
       "      <td>Adventure|Fantasy</td>\n",
       "      <td>120737</td>\n",
       "      <td>120.0</td>\n",
       "      <td>NaN</td>\n",
       "      <td>2015-04-24 17:25:49</td>\n",
       "      <td>NaN</td>\n",
       "      <td>2001</td>\n",
       "    </tr>\n",
       "    <tr>\n",
       "      <th>36404</th>\n",
       "      <td>262</td>\n",
       "      <td>4816</td>\n",
       "      <td>2.5</td>\n",
       "      <td>Zoolander (2001)</td>\n",
       "      <td>Comedy</td>\n",
       "      <td>196229</td>\n",
       "      <td>9398.0</td>\n",
       "      <td>NaN</td>\n",
       "      <td>2015-06-14 21:55:42</td>\n",
       "      <td>NaN</td>\n",
       "      <td>2001</td>\n",
       "    </tr>\n",
       "  </tbody>\n",
       "</table>\n",
       "</div>"
      ],
      "text/plain": [
       "       userId  movieId  rating  \\\n",
       "71772     501     1203     5.0   \n",
       "67162     468    54419     3.0   \n",
       "49751     362     5669     4.5   \n",
       "13119      84     4993     4.5   \n",
       "36404     262     4816     2.5   \n",
       "\n",
       "                                                   title             genres  \\\n",
       "71772                                12 Angry Men (1957)              Drama   \n",
       "67162                     Czech Dream (Ceský sen) (2004)        Documentary   \n",
       "49751                       Bowling for Columbine (2002)        Documentary   \n",
       "13119  Lord of the Rings: The Fellowship of the Ring,...  Adventure|Fantasy   \n",
       "36404                                   Zoolander (2001)             Comedy   \n",
       "\n",
       "       imdbId   tmdbId  tag    timestamp_ratings timestamp_tags  year  \n",
       "71772   50083    389.0  NaN  2011-06-30 20:24:04            NaN  1957  \n",
       "67162  402906  33916.0  NaN  2011-01-28 00:51:15            NaN  2004  \n",
       "49751  310793   1430.0  NaN  2008-09-19 18:02:58            NaN  2002  \n",
       "13119  120737    120.0  NaN  2015-04-24 17:25:49            NaN  2001  \n",
       "36404  196229   9398.0  NaN  2015-06-14 21:55:42            NaN  2001  "
      ]
     },
     "execution_count": 402,
     "metadata": {},
     "output_type": "execute_result"
    }
   ],
   "source": [
    "movielens_train.head()"
   ]
  },
  {
   "cell_type": "code",
   "execution_count": 343,
   "metadata": {
    "collapsed": true
   },
   "outputs": [],
   "source": [
    "movielens_train.to_csv('ml-latest-small/my_generated_movielens_train.csv')\n",
    "movielens_test.to_csv('ml-latest-small/my_generated_movielens_test.csv')"
   ]
  },
  {
   "cell_type": "markdown",
   "metadata": {},
   "source": [
    "### Evaluation: performance criterion\n",
    "Some options for performance evaluation includes:\n",
    "- RMSE: $\\sqrt{\\frac{\\sum(\\hat y - y)^2}{n}}$\n",
    "- Precision / Recall / F-scores\n",
    "- ROC curves\n",
    "- Cost curves\n",
    "\n",
    "And in this project RMSE is used as the performance criterion"
   ]
  },
  {
   "cell_type": "code",
   "execution_count": 344,
   "metadata": {
    "collapsed": true
   },
   "outputs": [],
   "source": [
    "def compute_rmse(y_pred, y_true):\n",
    "    \"\"\" Compute Root Mean Squared Error. \"\"\"\n",
    "    \n",
    "    return np.sqrt(np.mean(np.power(y_pred - y_true, 2)))"
   ]
  },
  {
   "cell_type": "code",
   "execution_count": 345,
   "metadata": {
    "collapsed": true
   },
   "outputs": [],
   "source": [
    "def evaluate(estimate_f):\n",
    "    \"\"\" RMSE-based predictive performance evaluation with pandas. \"\"\"\n",
    "    \n",
    "    ids_to_estimate = zip(movielens_test.userId, movielens_test.movieId)\n",
    "    estimated = np.array([estimate_f(u,i) for (u,i) in ids_to_estimate])\n",
    "    real = movielens_test.rating.values\n",
    "    return compute_rmse(estimated, real)"
   ]
  },
  {
   "cell_type": "code",
   "execution_count": 346,
   "metadata": {
    "collapsed": true
   },
   "outputs": [],
   "source": [
    "def my_estimate_function(user_id, movie_id):\n",
    "    return 3"
   ]
  },
  {
   "cell_type": "code",
   "execution_count": 347,
   "metadata": {},
   "outputs": [
    {
     "name": "stdout",
     "output_type": "stream",
     "text": [
      "RMSE for my estimate function: 1.19270798792\n"
     ]
    }
   ],
   "source": [
    "print('RMSE for my estimate function: %s' % evaluate(my_estimate_function))"
   ]
  },
  {
   "cell_type": "code",
   "execution_count": 403,
   "metadata": {
    "scrolled": false
   },
   "outputs": [
    {
     "data": {
      "text/html": [
       "<div>\n",
       "<style>\n",
       "    .dataframe thead tr:only-child th {\n",
       "        text-align: right;\n",
       "    }\n",
       "\n",
       "    .dataframe thead th {\n",
       "        text-align: left;\n",
       "    }\n",
       "\n",
       "    .dataframe tbody tr th {\n",
       "        vertical-align: top;\n",
       "    }\n",
       "</style>\n",
       "<table border=\"1\" class=\"dataframe\">\n",
       "  <thead>\n",
       "    <tr style=\"text-align: right;\">\n",
       "      <th></th>\n",
       "      <th>title</th>\n",
       "      <th>genres</th>\n",
       "      <th>year</th>\n",
       "    </tr>\n",
       "    <tr>\n",
       "      <th>movieId</th>\n",
       "      <th></th>\n",
       "      <th></th>\n",
       "      <th></th>\n",
       "    </tr>\n",
       "  </thead>\n",
       "  <tbody>\n",
       "    <tr>\n",
       "      <th>1</th>\n",
       "      <td>Toy Story (1995)</td>\n",
       "      <td>Adventure|Animation|Children|Comedy|Fantasy</td>\n",
       "      <td>1995</td>\n",
       "    </tr>\n",
       "    <tr>\n",
       "      <th>2</th>\n",
       "      <td>Jumanji (1995)</td>\n",
       "      <td>Adventure|Children|Fantasy</td>\n",
       "      <td>1995</td>\n",
       "    </tr>\n",
       "    <tr>\n",
       "      <th>3</th>\n",
       "      <td>Grumpier Old Men (1995)</td>\n",
       "      <td>Comedy|Romance</td>\n",
       "      <td>1995</td>\n",
       "    </tr>\n",
       "    <tr>\n",
       "      <th>4</th>\n",
       "      <td>Waiting to Exhale (1995)</td>\n",
       "      <td>Comedy|Drama|Romance</td>\n",
       "      <td>1995</td>\n",
       "    </tr>\n",
       "    <tr>\n",
       "      <th>5</th>\n",
       "      <td>Father of the Bride Part II (1995)</td>\n",
       "      <td>Comedy</td>\n",
       "      <td>1995</td>\n",
       "    </tr>\n",
       "  </tbody>\n",
       "</table>\n",
       "</div>"
      ],
      "text/plain": [
       "                                      title  \\\n",
       "movieId                                       \n",
       "1                          Toy Story (1995)   \n",
       "2                            Jumanji (1995)   \n",
       "3                   Grumpier Old Men (1995)   \n",
       "4                  Waiting to Exhale (1995)   \n",
       "5        Father of the Bride Part II (1995)   \n",
       "\n",
       "                                              genres  year  \n",
       "movieId                                                     \n",
       "1        Adventure|Animation|Children|Comedy|Fantasy  1995  \n",
       "2                         Adventure|Children|Fantasy  1995  \n",
       "3                                     Comedy|Romance  1995  \n",
       "4                               Comedy|Drama|Romance  1995  \n",
       "5                                             Comedy  1995  "
      ]
     },
     "execution_count": 403,
     "metadata": {},
     "output_type": "execute_result"
    }
   ],
   "source": [
    "movies_info = movies.set_index('movieId')\n",
    "movies_info['year'] = get_year(movies['title'])\n",
    "movies_info.head(5)"
   ]
  },
  {
   "cell_type": "markdown",
   "metadata": {},
   "source": [
    "### Content-based filtering using implicit sim functions"
   ]
  },
  {
   "cell_type": "markdown",
   "metadata": {},
   "source": [
    "Using the similarity of genres among a series movies to estimate the unknow movie rating."
   ]
  },
  {
   "cell_type": "code",
   "execution_count": 410,
   "metadata": {
    "scrolled": true
   },
   "outputs": [
    {
     "name": "stderr",
     "output_type": "stream",
     "text": [
      "C:\\Users\\Alexander\\Anaconda3\\lib\\site-packages\\ipykernel\\__main__.py:16: DeprecationWarning: \n",
      ".ix is deprecated. Please use\n",
      ".loc for label based indexing or\n",
      ".iloc for positional indexing\n",
      "\n",
      "See the documentation here:\n",
      "http://pandas.pydata.org/pandas-docs/stable/indexing.html#ix-indexer-is-deprecated\n"
     ]
    },
    {
     "name": "stdout",
     "output_type": "stream",
     "text": [
      "RMSE for CollabGenresReco: 0.997038490192\n"
     ]
    }
   ],
   "source": [
    "class ContentGenresReco:\n",
    "    \"\"\" Collaborative filtering using an implicit sim(u,u'). \"\"\"\n",
    "\n",
    "    def learn(self):\n",
    "        \"\"\" Prepare datastructures for estimation. \"\"\"\n",
    "        \n",
    "        self.means_by_genres = movielens_train.pivot_table('rating', index='movieId', columns='genres')\n",
    "\n",
    "    def estimate(self, userId, movieId):\n",
    "        \"\"\" Mean ratings by other users of the same genres. \"\"\"\n",
    "        \n",
    "        if movieId not in self.means_by_genres.index: \n",
    "            return 3.0\n",
    "        \n",
    "        movies_genres = movies_info.ix[movieId, 'genres']\n",
    "        if ~np.isnan(self.means_by_genres.ix[movieId, movies_genres]):\n",
    "            return self.means_by_genres.ix[movieId, movies_genres]\n",
    "        else:\n",
    "            return self.means_by_genres.ix[movieId].mean()\n",
    "\n",
    "reco_genres = ContentGenresReco()\n",
    "reco_genres.learn()\n",
    "print('RMSE for CollabGenresReco: %s' % evaluate(reco_genres.estimate))"
   ]
  },
  {
   "cell_type": "markdown",
   "metadata": {},
   "source": [
    "Using the similarity of year of movies to estimate the unknow movie rating."
   ]
  },
  {
   "cell_type": "code",
   "execution_count": 425,
   "metadata": {},
   "outputs": [
    {
     "name": "stderr",
     "output_type": "stream",
     "text": [
      "C:\\Users\\Alexander\\Anaconda3\\lib\\site-packages\\ipykernel\\__main__.py:16: DeprecationWarning: \n",
      ".ix is deprecated. Please use\n",
      ".loc for label based indexing or\n",
      ".iloc for positional indexing\n",
      "\n",
      "See the documentation here:\n",
      "http://pandas.pydata.org/pandas-docs/stable/indexing.html#ix-indexer-is-deprecated\n"
     ]
    },
    {
     "name": "stdout",
     "output_type": "stream",
     "text": [
      "RMSE for CollabYearReco: 0.997038490192\n"
     ]
    }
   ],
   "source": [
    "class ContentYearReco:\n",
    "    \"\"\" Collaborative filtering using an implicit sim(u,u'). \"\"\"\n",
    "\n",
    "    def learn(self):\n",
    "        \"\"\" Prepare datastructures for estimation. \"\"\"\n",
    "        \n",
    "        self.means_by_year = movielens_train.pivot_table('rating', index='movieId', columns='year')\n",
    "\n",
    "    def estimate(self, userId, movieId):\n",
    "        \"\"\" Mean ratings by other users of the same year. \"\"\"\n",
    "        \n",
    "        if movieId not in self.means_by_year.index: \n",
    "            return 3.0\n",
    "        \n",
    "        movies_year = movies_info.ix[movieId, 'year']\n",
    "        if ~np.isnan(self.means_by_year.ix[movieId, movies_year]):\n",
    "            return self.means_by_year.ix[movieId, movies_year]\n",
    "        else:\n",
    "            return self.means_by_year.ix[movieId].mean()\n",
    "\n",
    "reco_year = ContentYearReco()\n",
    "reco_year.learn()\n",
    "print('RMSE for CollabYearReco: %s' % evaluate(reco_year.estimate))"
   ]
  },
  {
   "cell_type": "markdown",
   "metadata": {},
   "source": [
    "### A few custom similarity functions"
   ]
  },
  {
   "cell_type": "markdown",
   "metadata": {},
   "source": [
    "- Euclidean 'similarity'\n",
    "\n",
    "$$ sim(x,y) = \\frac{1}{1 + \\sqrt{\\sum (x - y)^2}}$$"
   ]
  },
  {
   "cell_type": "code",
   "execution_count": 422,
   "metadata": {
    "collapsed": true
   },
   "outputs": [],
   "source": [
    "def euclidean(s1, s2):\n",
    "    \"\"\"Take two pd.Series objects and return their euclidean 'similarity'.\"\"\"\n",
    "    diff = s1 - s2\n",
    "    return 1 / (1 + np.sqrt(np.sum(diff ** 2)))"
   ]
  },
  {
   "cell_type": "markdown",
   "metadata": {},
   "source": [
    "- Cosine similarity\n",
    "\n",
    "$$ sim(x,y) = \\frac{(x . y)}{\\sqrt{(x . x) (y . y)}} $$"
   ]
  },
  {
   "cell_type": "code",
   "execution_count": 421,
   "metadata": {
    "collapsed": true
   },
   "outputs": [],
   "source": [
    "def cosine(s1, s2):\n",
    "    \"\"\"Take two pd.Series objects and return their cosine similarity.\"\"\"\n",
    "    return np.sum(s1 * s2) / np.sqrt(np.sum(s1 ** 2) * np.sum(s2 ** 2))"
   ]
  },
  {
   "cell_type": "markdown",
   "metadata": {},
   "source": [
    "- Pearson correlation\n",
    "\n",
    "$$ sim(x,y) = \\frac{(x - \\bar x).(y - \\bar y)}{\\sqrt{(x - \\bar x).(x - \\bar x) * (y - \\bar y)(y - \\bar y)}} $$"
   ]
  },
  {
   "cell_type": "code",
   "execution_count": 420,
   "metadata": {
    "collapsed": true
   },
   "outputs": [],
   "source": [
    "def pearson(s1, s2):\n",
    "    \"\"\"Take two pd.Series objects and return a pearson correlation.\"\"\"\n",
    "    s1_c = s1 - s1.mean()\n",
    "    s2_c = s2 - s2.mean()\n",
    "    return np.sum(s1_c * s2_c) / np.sqrt(np.sum(s1_c ** 2) * np.sum(s2_c ** 2))"
   ]
  },
  {
   "cell_type": "markdown",
   "metadata": {},
   "source": [
    "- Jaccard similarity\n",
    "\n",
    "$$ sim(x,y) = \\frac{(x . y)}{(x . x) + (y . y) - (x . y)} $$"
   ]
  },
  {
   "cell_type": "code",
   "execution_count": 419,
   "metadata": {
    "collapsed": true
   },
   "outputs": [],
   "source": [
    "def jaccard(s1, s2):\n",
    "    dotp = np.sum(s1 * s2)\n",
    "    return dotp / (np.sum(s1 ** 2) + np.sum(s2 ** 2) - dotp)\n",
    "\n",
    "def binjaccard(s1, s2):\n",
    "    dotp = (s1.index & s2.index).size\n",
    "    return dotp / (s1.sum() + s2.sum() - dotp)"
   ]
  },
  {
   "cell_type": "markdown",
   "metadata": {},
   "source": [
    "### Collaborative-based filtering using custom sim functions"
   ]
  },
  {
   "cell_type": "markdown",
   "metadata": {},
   "source": [
    "Incorporating the pearson r similarity of users "
   ]
  },
  {
   "cell_type": "code",
   "execution_count": 424,
   "metadata": {},
   "outputs": [
    {
     "name": "stdout",
     "output_type": "stream",
     "text": [
      "RMSE for CollabPearsonReco: 0.937770665459\n"
     ]
    }
   ],
   "source": [
    "class CollabPearsonReco:\n",
    "    \"\"\" Collaborative filtering using a custom sim(u,u'). \"\"\"\n",
    "\n",
    "    def learn(self):\n",
    "        \"\"\" Prepare datastructures for estimation. \"\"\"\n",
    "        \n",
    "        self.all_user_profiles = movielens.pivot_table('rating', index='movieId', columns='userId')\n",
    "\n",
    "    def estimate(self, userId, movieId):\n",
    "        \"\"\" Ratings weighted by correlation similarity. \"\"\"\n",
    "        \n",
    "        user_condition = movielens_train.userId != userId\n",
    "        movie_condition = movielens_train.movieId == movieId\n",
    "        ratings_by_others = movielens_train.loc[user_condition & movie_condition]\n",
    "        if ratings_by_others.empty: \n",
    "            return 3.0\n",
    "        \n",
    "        ratings_by_others.set_index('userId', inplace=True)\n",
    "        their_ids = ratings_by_others.index\n",
    "        their_ratings = ratings_by_others.rating\n",
    "        their_profiles = self.all_user_profiles[their_ids]\n",
    "        user_profile = self.all_user_profiles[userId]\n",
    "        sims = their_profiles.apply(lambda profile: pearson(profile, user_profile), axis=0)\n",
    "        ratings_sims = pd.DataFrame({'sim': sims, 'rating': their_ratings})\n",
    "        ratings_sims = ratings_sims[ratings_sims.sim > 0]\n",
    "        if ratings_sims.empty:\n",
    "            return their_ratings.mean()\n",
    "        else:\n",
    "            return np.average(ratings_sims.rating, weights=ratings_sims.sim)\n",
    "        \n",
    "reco_pearson = CollabPearsonReco()\n",
    "reco_pearson.learn()\n",
    "print('RMSE for CollabPearsonReco: %s' % evaluate(reco_pearson.estimate))"
   ]
  },
  {
   "cell_type": "markdown",
   "metadata": {},
   "source": [
    "Incorporating the cosine similarity of users "
   ]
  },
  {
   "cell_type": "code",
   "execution_count": 426,
   "metadata": {},
   "outputs": [
    {
     "name": "stdout",
     "output_type": "stream",
     "text": [
      "RMSE for CollabPearsonReco: 0.990199640509\n"
     ]
    }
   ],
   "source": [
    "class CollabPearsonReco:\n",
    "    \"\"\" Collaborative filtering using a custom sim(u,u'). \"\"\"\n",
    "\n",
    "    def learn(self):\n",
    "        \"\"\" Prepare datastructures for estimation. \"\"\"\n",
    "        \n",
    "        self.all_user_profiles = movielens.pivot_table('rating', index='movieId', columns='userId')\n",
    "\n",
    "    def estimate(self, userId, movieId):\n",
    "        \"\"\" Ratings weighted by correlation similarity. \"\"\"\n",
    "        \n",
    "        user_condition = movielens_train.userId != userId\n",
    "        movie_condition = movielens_train.movieId == movieId\n",
    "        ratings_by_others = movielens_train.loc[user_condition & movie_condition]\n",
    "        if ratings_by_others.empty: \n",
    "            return 3.0\n",
    "        \n",
    "        ratings_by_others.set_index('userId', inplace=True)\n",
    "        their_ids = ratings_by_others.index\n",
    "        their_ratings = ratings_by_others.rating\n",
    "        their_profiles = self.all_user_profiles[their_ids]\n",
    "        user_profile = self.all_user_profiles[userId]\n",
    "        sims = their_profiles.apply(lambda profile: cosine(profile, user_profile), axis=0)\n",
    "        ratings_sims = pd.DataFrame({'sim': sims, 'rating': their_ratings})\n",
    "        ratings_sims = ratings_sims[ratings_sims.sim > 0]\n",
    "        if ratings_sims.empty:\n",
    "            return their_ratings.mean()\n",
    "        else:\n",
    "            return np.average(ratings_sims.rating, weights=ratings_sims.sim)\n",
    "        \n",
    "reco = CollabPearsonReco()\n",
    "reco.learn()\n",
    "print('RMSE for CollabPearsonReco: %s' % evaluate(reco.estimate))"
   ]
  }
 ],
 "metadata": {
  "kernelspec": {
   "display_name": "Python [conda root]",
   "language": "python",
   "name": "conda-root-py"
  },
  "language_info": {
   "codemirror_mode": {
    "name": "ipython",
    "version": 3
   },
   "file_extension": ".py",
   "mimetype": "text/x-python",
   "name": "python",
   "nbconvert_exporter": "python",
   "pygments_lexer": "ipython3",
   "version": "3.6.2"
  }
 },
 "nbformat": 4,
 "nbformat_minor": 2
}
